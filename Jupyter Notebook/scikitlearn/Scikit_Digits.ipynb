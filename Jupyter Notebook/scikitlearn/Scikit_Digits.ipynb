{
 "cells": [
  {
   "cell_type": "code",
   "execution_count": 21,
   "metadata": {},
   "outputs": [],
   "source": [
    "from sklearn import datasets\n",
    "from sklearn.model_selection import train_test_split"
   ]
  },
  {
   "cell_type": "code",
   "execution_count": 22,
   "metadata": {},
   "outputs": [],
   "source": [
    "digits = datasets.load_digits()"
   ]
  },
  {
   "cell_type": "code",
   "execution_count": 23,
   "metadata": {},
   "outputs": [],
   "source": [
    "X = digits.data\n",
    "y = digits.target"
   ]
  },
  {
   "cell_type": "code",
   "execution_count": 24,
   "metadata": {},
   "outputs": [],
   "source": [
    "X_train, X_test, y_train, y_test = train_test_split(X, y, test_size=0.3, random_state=13 )"
   ]
  },
  {
   "cell_type": "code",
   "execution_count": 26,
   "metadata": {},
   "outputs": [
    {
     "data": {
      "text/plain": [
       "array([[ 0.,  0.,  2., ..., 16.,  1.,  0.],\n",
       "       [ 0.,  0.,  2., ...,  3.,  0.,  0.],\n",
       "       [ 0.,  0.,  4., ...,  5.,  0.,  0.],\n",
       "       ...,\n",
       "       [ 0.,  0.,  0., ..., 13.,  3.,  0.],\n",
       "       [ 0.,  0.,  0., ..., 16.,  9.,  0.],\n",
       "       [ 0.,  0.,  3., ...,  0.,  0.,  0.]])"
      ]
     },
     "execution_count": 26,
     "metadata": {},
     "output_type": "execute_result"
    }
   ],
   "source": [
    "X_test"
   ]
  },
  {
   "cell_type": "code",
   "execution_count": 9,
   "metadata": {},
   "outputs": [],
   "source": [
    "from sklearn import svm"
   ]
  },
  {
   "cell_type": "code",
   "execution_count": 10,
   "metadata": {},
   "outputs": [],
   "source": [
    "clf = svm.SVC(gamma=0.001, C=100.)"
   ]
  },
  {
   "cell_type": "code",
   "execution_count": 27,
   "metadata": {},
   "outputs": [
    {
     "data": {
      "text/plain": [
       "SVC(C=100.0, gamma=0.001)"
      ]
     },
     "execution_count": 27,
     "metadata": {},
     "output_type": "execute_result"
    }
   ],
   "source": [
    "clf.fit(X_train,y_train)\n"
   ]
  },
  {
   "cell_type": "code",
   "execution_count": 28,
   "metadata": {},
   "outputs": [
    {
     "data": {
      "text/plain": [
       "array([9, 1, 1, 3, 1, 3, 4, 9, 5, 8, 8, 0, 2, 5, 0, 4, 4, 6, 4, 1, 1, 1,\n",
       "       6, 4, 4, 9, 5, 4, 3, 1, 5, 0, 8, 5, 1, 0, 0, 3, 8, 0, 1, 8, 2, 1,\n",
       "       0, 1, 9, 9, 4, 4, 3, 6, 7, 8, 0, 1, 6, 5, 5, 2, 5, 9, 1, 8, 3, 5,\n",
       "       3, 9, 7, 6, 5, 2, 3, 1, 7, 6, 1, 1, 6, 8, 5, 9, 9, 6, 2, 5, 0, 8,\n",
       "       9, 6, 1, 3, 0, 7, 7, 5, 5, 8, 6, 2, 4, 7, 2, 5, 6, 3, 7, 5, 3, 5,\n",
       "       5, 4, 9, 3, 3, 2, 7, 8, 9, 8, 2, 4, 7, 4, 5, 3, 2, 2, 8, 3, 5, 9,\n",
       "       9, 5, 2, 7, 6, 8, 9, 3, 6, 0, 5, 3, 9, 3, 7, 5, 6, 2, 4, 3, 2, 9,\n",
       "       4, 0, 6, 7, 2, 3, 0, 0, 4, 9, 5, 4, 1, 9, 4, 1, 5, 5, 7, 0, 2, 3,\n",
       "       8, 4, 7, 2, 5, 5, 4, 8, 2, 2, 0, 4, 8, 4, 0, 5, 3, 2, 9, 6, 8, 8,\n",
       "       1, 4, 5, 6, 5, 0, 1, 3, 6, 5, 2, 8, 0, 7, 0, 6, 0, 8, 7, 2, 8, 6,\n",
       "       2, 7, 3, 3, 9, 9, 5, 6, 6, 9, 6, 0, 6, 4, 2, 7, 3, 5, 2, 4, 0, 0,\n",
       "       7, 2, 3, 8, 6, 1, 6, 9, 5, 0, 1, 6, 3, 2, 3, 9, 5, 8, 1, 1, 6, 9,\n",
       "       4, 4, 8, 3, 3, 4, 1, 2, 6, 6, 9, 1, 4, 9, 4, 6, 1, 1, 2, 9, 2, 0,\n",
       "       8, 0, 1, 5, 5, 5, 2, 9, 8, 5, 9, 2, 7, 0, 6, 6, 7, 6, 2, 6, 1, 4,\n",
       "       4, 6, 2, 1, 2, 9, 4, 4, 3, 6, 0, 9, 8, 6, 4, 8, 5, 1, 3, 5, 3, 2,\n",
       "       8, 3, 7, 1, 6, 1, 7, 4, 4, 3, 2, 6, 1, 6, 8, 7, 9, 1, 2, 5, 7, 8,\n",
       "       6, 9, 8, 0, 4, 1, 8, 5, 0, 4, 5, 7, 6, 1, 3, 9, 8, 6, 8, 3, 8, 0,\n",
       "       8, 5, 9, 8, 1, 8, 5, 5, 5, 9, 7, 4, 8, 6, 7, 5, 6, 4, 2, 3, 6, 4,\n",
       "       3, 9, 3, 8, 3, 0, 3, 3, 4, 7, 7, 9, 3, 1, 3, 9, 8, 7, 5, 5, 3, 8,\n",
       "       1, 4, 1, 8, 6, 7, 2, 4, 2, 5, 4, 6, 0, 2, 7, 3, 9, 2, 3, 1, 7, 3,\n",
       "       4, 3, 2, 7, 1, 5, 2, 5, 9, 9, 0, 7, 1, 3, 7, 8, 5, 2, 3, 6, 2, 0,\n",
       "       2, 3, 7, 6, 8, 2, 9, 2, 7, 3, 4, 4, 1, 2, 7, 9, 7, 7, 2, 6, 2, 9,\n",
       "       7, 1, 0, 9, 7, 3, 0, 3, 9, 1, 5, 4, 3, 9, 8, 3, 3, 8, 3, 7, 7, 6,\n",
       "       5, 8, 5, 6, 7, 4, 1, 3, 3, 6, 3, 2, 2, 3, 0, 8, 4, 1, 5, 5, 7, 0,\n",
       "       0, 2, 1, 6, 8, 9, 3, 1, 2, 8, 2, 7])"
      ]
     },
     "execution_count": 28,
     "metadata": {},
     "output_type": "execute_result"
    }
   ],
   "source": [
    "clf.predict(X_test)"
   ]
  },
  {
   "cell_type": "code",
   "execution_count": 31,
   "metadata": {},
   "outputs": [
    {
     "data": {
      "text/plain": [
       "0.9888888888888889"
      ]
     },
     "execution_count": 31,
     "metadata": {},
     "output_type": "execute_result"
    }
   ],
   "source": [
    "clf.score(X_test, y_test)"
   ]
  },
  {
   "cell_type": "code",
   "execution_count": null,
   "metadata": {},
   "outputs": [],
   "source": []
  }
 ],
 "metadata": {
  "kernelspec": {
   "display_name": "Python 3",
   "language": "python",
   "name": "python3"
  },
  "language_info": {
   "codemirror_mode": {
    "name": "ipython",
    "version": 3
   },
   "file_extension": ".py",
   "mimetype": "text/x-python",
   "name": "python",
   "nbconvert_exporter": "python",
   "pygments_lexer": "ipython3",
   "version": "3.8.5"
  }
 },
 "nbformat": 4,
 "nbformat_minor": 4
}
